{
  "nbformat": 4,
  "nbformat_minor": 0,
  "metadata": {
    "colab": {
      "provenance": []
    },
    "kernelspec": {
      "name": "python3",
      "display_name": "Python 3"
    },
    "language_info": {
      "name": "python"
    }
  },
  "cells": [
    {
      "cell_type": "markdown",
      "source": [
        "# Python OOPs Questions"
      ],
      "metadata": {
        "id": "XFXMObsGJ1nt"
      }
    },
    {
      "cell_type": "markdown",
      "source": [
        "# 1. What is Object-Oriented Programming (OOP)?\n",
        "\n",
        " - Object-Oriented Programming (OOP) is a programming paradigm based on the concept of \"objects\", which are instances of classes. These objects can contain data, in the form of fields (often called attributes or properties), and code, in the form of methods (functions).\n",
        "\n",
        "Key Concepts of OOP:\n",
        "\n",
        "\n",
        "Class: A blueprint for creating objects. It defines the structure and behavior (attributes and methods) that the created objects will have.\n",
        "\n",
        "Object: An instance of a class. It is a self-contained unit that combines data and behavior.\n",
        "\n",
        "Encapsulation: Hiding the internal state and requiring all interaction to be performed through an object’s methods. This protects the integrity of the data.\n",
        "\n",
        "Inheritance: Allows a class (child/subclass) to inherit properties and methods from another class (parent/superclass). Promotes code reuse.\n",
        "\n",
        "Polymorphism: The ability for different classes to be treated as instances of the same class through a common interface. Often achieved through method overriding or interfaces.\n",
        "\n",
        "Abstraction: Hiding complex implementation details and showing only the essential features of the object.\n",
        "\n",
        "Example in Python:"
      ],
      "metadata": {
        "id": "dCiSLYr_KB0x"
      }
    },
    {
      "cell_type": "code",
      "source": [
        "class Animal:\n",
        "    def __init__(self, name):\n",
        "        self.name = name\n",
        "\n",
        "    def speak(self):\n",
        "        return \"Some sound\"\n",
        "\n",
        "class Dog(Animal):\n",
        "    def speak(self):\n",
        "        return \"Woof!\"\n",
        "\n",
        "dog = Dog(\"Buddy\")\n",
        "print(dog.name)\n",
        "print(dog.speak())\n"
      ],
      "metadata": {
        "colab": {
          "base_uri": "https://localhost:8080/"
        },
        "id": "fIOy51uTK2sR",
        "outputId": "bbe38fac-638a-4833-c16b-2f4f548a4b6f"
      },
      "execution_count": 1,
      "outputs": [
        {
          "output_type": "stream",
          "name": "stdout",
          "text": [
            "Buddy\n",
            "Woof!\n"
          ]
        }
      ]
    },
    {
      "cell_type": "markdown",
      "source": [
        "# 2. What is a class in OOP?\n",
        "\n",
        " - In Object-Oriented Programming (OOP), a class is a blueprint or template for creating objects.\n",
        "\n",
        "It defines the properties (attributes) and behaviors (methods) that the objects created from the class will have.\n",
        "\n",
        "Key Points about a Class:\n",
        "\n",
        "\n",
        "It does not hold actual data, but rather defines what kind of data and behavior an object should have.\n",
        "\n",
        "Once a class is defined, you can create instances (objects) of that class.\n",
        "\n",
        "Think of a class like a recipe—it tells you how to make something, but it's not the final dish."
      ],
      "metadata": {
        "id": "NtJ9FrDwLBjv"
      }
    },
    {
      "cell_type": "markdown",
      "source": [
        "# 3. What is an object in OOP?\n",
        "\n",
        " - In Object-Oriented Programming (OOP), an object is an instance of a class. It is a self-contained unit that bundles data (attributes) and behavior (methods) together.\n",
        "\n",
        "Key Characteristics of an Object:\n",
        "\n",
        "\n",
        "State: Represented by its attributes (e.g., a car's color, make, or model).\n",
        "\n",
        "Behavior: Defined by its methods (e.g., a car can drive or stop).\n",
        "\n",
        "Identity: Each object is distinct, even if its attributes are the same as another."
      ],
      "metadata": {
        "id": "xtSyhlufLd6G"
      }
    },
    {
      "cell_type": "markdown",
      "source": [
        "# 4. What is the difference between abstraction and encapsulation?\n",
        "\n",
        " - Abstraction and Encapsulation are two fundamental concepts in Object-Oriented Programming (OOP), and although they are related, they serve different purposes:\n",
        "\n",
        "  \n",
        "  - Abstraction\n",
        "\n",
        "  \n",
        "Focus: Hiding complexity and showing only the essential features.\n",
        "\n",
        "What it does: Shows what an object does, not how it does it.\n",
        "\n",
        "Purpose: Simplifies code and hides unnecessary details from the user.\n",
        "\n",
        "How it's implemented: Through abstract classes, interfaces, or simply by defining public methods that hide complex logic.\n",
        "\n",
        "\n",
        " - Encapsulation\n",
        "\n",
        "\n",
        "Focus: Bundling data and methods together and restricting access to internal data.\n",
        "\n",
        "What it does: Controls access to the internal state of an object.\n",
        "\n",
        "Purpose: Protects the object’s data from unintended interference and misuse.\n",
        "\n",
        "How it's implemented: Using access modifiers like private (conventionally _ or __ in Python), and providing getters/setters.\n",
        "\n",
        "\n"
      ],
      "metadata": {
        "id": "54A9VievLpm0"
      }
    },
    {
      "cell_type": "markdown",
      "source": [
        "# 5. What are dunder methods in Python?\n",
        "\n",
        " - Dunder methods (short for double underscore methods) in Python are special methods that have names starting and ending with double underscores, like __init__, __str__, and __len__.\n",
        "\n",
        "They are also known as magic methods or special methods, and they allow you to define how your objects behave with built-in Python operations (e.g., printing, addition, length checking, comparison).\n",
        "\n"
      ],
      "metadata": {
        "id": "aCe_jZF_MKwI"
      }
    },
    {
      "cell_type": "markdown",
      "source": [
        "# 6. Explain the concept of inheritance in OOP.\n",
        "\n",
        " - Inheritance in Object-Oriented Programming (OOP) is a mechanism that allows one class (called the child or subclass) to inherit properties and behaviors (attributes and methods) from another class (called the parent or superclass).\n",
        "\n",
        "🔹 Key Ideas:\n",
        "\n",
        "Promotes code reuse — common functionality is defined in one place (the parent class).\n",
        "\n",
        "Enables hierarchical relationships — like “is-a” relationships.\n",
        "\n",
        "Allows method overriding — the child class can customize or extend the parent class’s behavior.\n",
        "\n"
      ],
      "metadata": {
        "id": "OGVl3moeMia4"
      }
    },
    {
      "cell_type": "markdown",
      "source": [
        "# 7. What is polymorphism in OOP?\n",
        "\n",
        " - Polymorphism in Object-Oriented Programming (OOP) refers to the ability of different classes to be treated as instances of the same class through a common interface, even though they may behave differently.\n",
        "\n",
        "In simple terms, polymorphism allows the same method name to behave differently based on the object that calls it.\n",
        "\n",
        "* Two Main Types of Polymorphism:\n",
        "\n",
        "\n",
        "Compile-time Polymorphism (Static)\n",
        "\n",
        "Achieved through method overloading (not supported natively in Python).\n",
        "\n",
        "Example: Functions with the same name but different parameters (like in Java or C++).\n",
        "\n",
        "* Run-time Polymorphism (Dynamic)\n",
        "\n",
        "Achieved through method overriding and interfaces/abstract classes.\n",
        "\n",
        "Supported in Python and most OOP languages.\n",
        "\n"
      ],
      "metadata": {
        "id": "eeulSJTVM0TJ"
      }
    },
    {
      "cell_type": "markdown",
      "source": [
        "# 8. How is encapsulation achieved in Python.\n",
        "\n",
        " - Encapsulation in Python is achieved by restricting access to certain parts of an object and bundling data and methods that operate on that data into a single unit — a class.\n",
        "\n",
        "Although Python does not have strict access modifiers like private or protected in languages such as Java or C++, it uses naming conventions to indicate the level of access control.\n",
        "\n",
        "\n"
      ],
      "metadata": {
        "id": "wnO-RfOSNIvs"
      }
    },
    {
      "cell_type": "markdown",
      "source": [
        "# 9. What is a constructor in Python?\n",
        "\n",
        " - A constructor in Python is a special method used to initialize an object when it is created from a class. In Python, the constructor is always named __init__.\n",
        "\n",
        " * Key Points about the Constructor (__init__):\n",
        "It is automatically called when an object is instantiated.\n",
        "\n",
        "It sets up the initial state of the object by assigning values to its attributes.\n",
        "\n",
        "You can pass arguments to it to customize the object during creation."
      ],
      "metadata": {
        "id": "Xzs94u84NZfl"
      }
    },
    {
      "cell_type": "markdown",
      "source": [
        "# 10. What are class and static methods in Python?\n",
        "\n",
        "  - In Python, class methods and static methods are two types of methods that belong to a class but behave differently from instance methods. They are defined using decorators: @classmethod and @staticmethod.\n",
        "\n",
        "\n",
        "   - 1. Class Method\n",
        "\n",
        "Uses the @classmethod decorator.\n",
        "\n",
        "Takes cls as the first argument, representing the class itself (not the instance).\n",
        "\n",
        "Can access and modify class-level data.\n",
        "\n",
        "Often used for factory methods that create instances in a specific way.\\\n",
        "\n",
        " -  2. Static Method\n",
        "\n",
        "\n",
        "Uses the @staticmethod decorator.\n",
        "\n",
        "Does not take self or cls as its first argument.\n",
        "\n",
        "Cannot access or modify instance or class data.\n",
        "\n",
        "Used for utility/helper functions that are related to the class, but don’t depend on class or instance state."
      ],
      "metadata": {
        "id": "u3GArMCMN4QA"
      }
    },
    {
      "cell_type": "markdown",
      "source": [
        "# 11. What is method overloading in Python?\n",
        "\n",
        " - In Python, method overloading refers to the ability to define multiple methods with the same name but with different arguments. However, Python does not support traditional method overloading in the way some other languages (like Java or C++) do. In Python, a method can only be defined once within a class, and if you define a method with the same name more than once, the last definition will overwrite the previous ones.\n",
        "\n",
        "* How Python Handles Overloading:\n",
        "Instead of method overloading by defining methods with different signatures, Python achieves similar functionality using:\n",
        "\n",
        "Default arguments: You can specify default values for parameters, allowing a method to be called with varying numbers of arguments.\n",
        "\n",
        "Variable-length argument lists: Using *args (for non-keyword arguments) and **kwargs (for keyword arguments), you can create methods that accept any number of arguments.\n",
        "\n"
      ],
      "metadata": {
        "id": "I31diuk9OmX0"
      }
    },
    {
      "cell_type": "markdown",
      "source": [
        "# 12. What is method overriding in OOP?\n",
        "\n",
        " - Method overriding in Object-Oriented Programming (OOP) occurs when a subclass provides a specific implementation for a method that is already defined in its parent class. The method in the subclass must have the same name, same parameters, and same return type as the method in the parent class, but it can have different functionality.\n",
        "\n",
        " * Key Points about Method Overriding:\n",
        "\n",
        "Purpose: It allows the subclass to customize or extend the behavior of the parent class method.\n",
        "\n",
        "Occurs at runtime: The appropriate method (parent or subclass) is chosen at runtime depending on the object being used (i.e., polymorphism).\n",
        "\n",
        "Method signature: The method name, number, and type of parameters in the subclass must match those in the parent class.\n",
        "\n"
      ],
      "metadata": {
        "id": "yMVwzCvRO7k4"
      }
    },
    {
      "cell_type": "markdown",
      "source": [
        "# 13. What is a property decorator in Python?\n",
        "\n",
        " - In Python, the @property decorator is used to define getter methods in a class, allowing you to access an instance attribute like it’s a regular attribute, but with some added logic or control behind the scenes.\n",
        "\n",
        "This decorator allows you to define a read-only property or customize how you access an attribute by transforming a method into a property. It enables you to encapsulate the internal state of an object while still allowing controlled access to it.\n",
        "\n",
        "* Key Points:\n",
        "\n",
        "\n",
        "The @property decorator is applied to a method, allowing it to be accessed as if it were an attribute.\n",
        "\n",
        "It allows you to hide the internal representation of an attribute and provide custom getter logic.\n",
        "\n",
        "It can also be used in conjunction with setter and deleter methods to fully control how an attribute is accessed, modified, or deleted."
      ],
      "metadata": {
        "id": "5mCnwPJQPVM8"
      }
    },
    {
      "cell_type": "markdown",
      "source": [
        "# 14. Why is polymorphism important in OOP?\n",
        "\n",
        " - Polymorphism is one of the fundamental concepts of Object-Oriented Programming (OOP), and it is important for several reasons. It allows for flexibility, extensibility, and reusability in code. Let's break down why polymorphism is so crucial in OOP:\n",
        "\n",
        "\n",
        "  1. Flexibility and Interchangeability\n",
        "Polymorphism allows you to use objects of different classes interchangeably through a common interface (such as a parent class or an interface). This is particularly useful when you want to write code that can work with a variety of different object types in a unified way.\n",
        "\n",
        "Example:\n",
        "Imagine you're working with different shapes (Circle, Rectangle, Triangle), and all of them have a draw() method. Thanks to polymorphism, you can treat all shapes the same way and call their draw() method without worrying about the specific type of shape.\n",
        "\n",
        "\n",
        " 2. Code Reusability and Extensibility\n",
        "Polymorphism promotes code reuse by allowing you to write generic code that works across multiple classes. You can create functions, methods, or classes that accept a variety of object types, reducing the need to write redundant code.\n",
        "\n",
        "Example:\n",
        "You can write a function that works with any object that has a speak() method, regardless of the object's specific class.\n",
        "\n",
        "\n",
        " 3. Simplifying Code Maintenance\n",
        "With polymorphism, it’s easier to maintain and extend code. You can add new classes that share common behavior with existing ones, and your code doesn't need to change in every place where those classes are used. You can simply extend the class hierarchy or modify individual implementations.\n",
        "\n",
        "Example:\n",
        "If you had a set of classes like Dog, Cat, and Bird, all with a speak() method, and you added a new class Lion that also implements speak(), you don't need to update the code that uses the speak() method.\n",
        "\n",
        "\n",
        "\n",
        " 4. Supports the Open/Closed Principle\n",
        "Polymorphism allows your code to be open for extension but closed for modification. You can extend existing code with new functionality (by adding new subclasses or methods) without having to modify the code that already works.\n",
        "\n",
        "This follows the Open/Closed Principle from the SOLID principles, which says that a class should be open to extension (add new functionality) but closed to modification (don't modify existing code).\n",
        "\n",
        "\n",
        "\n",
        "\n",
        " 5. Real-World Modeling\n",
        "Polymorphism helps to model real-world behavior more naturally. In the real world, many different objects can exhibit similar behaviors but in their own unique way. For example, different animals make different sounds, but they all have a speak() behavior. Polymorphism allows you to represent these kinds of relationships in code.\n",
        "\n"
      ],
      "metadata": {
        "id": "Uk_-t4VGPlSG"
      }
    },
    {
      "cell_type": "markdown",
      "source": [
        "# 15.What is an abstract class in Python?\n",
        "\n",
        " - An abstract class in Python is a class that cannot be instantiated directly. It serves as a blueprint for other classes. Abstract classes are used to define common interfaces for other classes while allowing subclasses to implement specific functionality. They are part of the abstract base class (ABC) mechanism in Python, which allows you to define abstract methods that must be implemented by any subclass.\n",
        "\n",
        "*Key Features of an Abstract Class:\n",
        "\n",
        "Cannot be instantiated: You cannot create an object of an abstract class directly.\n",
        "\n",
        "Defines abstract methods: Abstract methods are methods that are declared but contain no implementation. Subclasses must override these methods.\n",
        "\n",
        "Can have implemented methods: Abstract classes can also have concrete methods (methods with implementation) that are inherited by subclasses.\n",
        "\n",
        "Provides a common interface: It enforces a certain structure in all subclasses."
      ],
      "metadata": {
        "id": "RVev1xFSQKWe"
      }
    },
    {
      "cell_type": "markdown",
      "source": [
        "# 16.What are the advantages of OOP?\n",
        "\n",
        " - Object-Oriented Programming (OOP) offers several advantages that make it a popular and effective approach for software development. Here are some of the key benefits of OOP:\n",
        "\n",
        " 1. Modularity\n",
        "\n",
        "OOP promotes breaking down complex systems into smaller, manageable units called objects. Each object can represent a specific concept, entity, or functionality. This modular approach makes it easier to develop, test, and maintain code.\n",
        "\n",
        "Benefit: Code is organized into classes and objects, making it easier to understand, develop, and maintain.\n",
        "\n",
        "Example: In a game, you can create separate classes for Player, Enemy, Weapon, and Level, each encapsulating its own properties and behaviors.\n",
        "\n",
        " 2. Reusability\n",
        "\n",
        "Once a class is created, it can be reused across different parts of the program or even in other programs. Through inheritance, classes can be extended, allowing the reuse of existing code while adding new functionality.\n",
        "\n",
        "Benefit: You don’t need to rewrite code for similar functionality, which saves time and reduces errors.\n",
        "\n",
        "Example: A Vehicle class can be extended into Car, Bike, and Truck classes, inheriting common features while adding specific attributes and methods.\n",
        "\n",
        " 3. Maintainability\n",
        "\n",
        "OOP enhances the ability to maintain and modify code over time. With encapsulation, the internal details of an object are hidden, making it easier to modify the behavior of an object without affecting the rest of the system. Additionally, changes to one object or class don’t usually affect others.\n",
        "\n",
        "Benefit: Makes code easier to maintain, modify, and troubleshoot since objects have clearly defined boundaries and functionalities.\n",
        "\n",
        "Example: If you need to change the behavior of a PaymentProcessor class, you can do so without affecting the Order or Customer classes.\n",
        "\n",
        " 4. Abstraction\n",
        "\n",
        "OOP allows for abstraction, where complex systems can be represented with simplified models. This helps hide unnecessary implementation details and expose only the essential features to the user.\n",
        "\n",
        "Benefit: Users of the class don’t need to know the complex details of how a class works, only what it can do.\n",
        "\n",
        "Example: A Database class might have a connect() method, but the details of how the connection is established (like the specific database server or protocol) are hidden from the user.\n",
        "\n",
        " 5. Scalability\n",
        "\n",
        "OOP allows you to build scalable systems by creating a hierarchy of classes and extending them as needed. As your system grows, new classes can be added without affecting existing functionality, making the system flexible and easier to scale.\n",
        "\n",
        "Benefit: Easier to extend and add new functionality without breaking existing code.\n",
        "\n",
        "Example: In an e-commerce application, new product types or payment methods can be added by creating new classes without altering the existing codebase.\n",
        "\n",
        " 6. Polymorphism\n",
        "\n",
        "Polymorphism allows different classes to respond to the same method or interface in their own way. This is especially useful when working with objects of different classes that share common functionality.\n",
        "\n",
        "Benefit: Enables you to write more generic and reusable code.\n",
        "\n",
        "Example: A draw() method might behave differently for Circle, Rectangle, and Triangle objects, but you can call draw() polymorphically without knowing which specific object is being used.\n",
        "\n",
        " 7. Security (Encapsulation)\n",
        "\n",
        "OOP uses encapsulation to protect data by making attributes private and providing public methods (getters/setters) to access or modify those attributes. This ensures that the internal state of an object is hidden from external code, protecting it from unintended interference or corruption.\n",
        "\n",
        "Benefit: Ensures that data is only accessed in controlled ways, reducing the chances of errors and misuse.\n",
        "\n",
        "Example: A BankAccount class might allow access to the account balance only through specific methods like deposit() and withdraw() to ensure that the balance can’t be changed arbitrarily.\n",
        "\n",
        " 8. Easy Debugging and Testing\n",
        "\n",
        "OOP encourages the development of independent objects, which can be tested and debugged individually. Since objects are self-contained, you can often isolate bugs to specific objects or classes and focus on them without worrying about the entire system.\n",
        "\n",
        "Benefit: Helps in isolating and fixing bugs more easily.\n",
        "\n",
        "Example: You can test a PaymentProcessor class independently from the rest of the system to ensure it works correctly before integrating it.\n",
        "\n",
        " 9. Collaboration\n",
        "\n",
        "OOP makes it easier for teams to collaborate on a project. Because classes and objects are well-defined, different team members can work on different parts of the system without interfering with each other’s work.\n",
        "\n",
        "Benefit: Encourages teamwork and parallel development, as teams can work on separate modules independently.\n",
        "\n",
        "Example: One team can work on the User class, while another team focuses on the Product class in an e-commerce application.\n",
        "\n",
        " 10. Real-World Modeling\n",
        "\n",
        "OOP is designed to model real-world systems, making it more intuitive. Objects in the real world (like a Car, Dog, or BankAccount) can be represented as objects in code, and their behaviors can be modeled as methods.\n",
        "\n",
        "Benefit: More natural and intuitive design and mapping to the real world.\n",
        "\n",
        "Example: In a library system, a Book object might have attributes like title, author, and isbn, with methods like checkout() and return_book().\n",
        "\n",
        "\n",
        "\n",
        "\n",
        "\n"
      ],
      "metadata": {
        "id": "_wSYlR0BQhOs"
      }
    },
    {
      "cell_type": "markdown",
      "source": [
        "# 17. What is the difference between a class variable and an instance variable?\n",
        "\n",
        " - In Python, the terms class variable and instance variable refer to two types of variables that are associated with classes and objects. The key difference between them lies in how they are stored and accessed in relation to the class and instances of the class.\n",
        "\n",
        " 1. Class Variable\n",
        "\n",
        "A class variable is a variable that is shared among all instances of a class. It is defined inside the class but outside any instance methods (including the __init__ method). Class variables are accessed via the class itself or via any instance of the class. When a class variable is modified, the change is reflected across all instances of that class unless overridden by an instance variable.\n",
        "\n",
        "Scope: Shared among all instances of the class.\n",
        "\n",
        "Modification: Changes to a class variable affect all instances unless the instance has its own variable with the same name (i.e., shadowing the class variable).\n",
        "\n",
        "Usage: Class variables are often used for properties that are constant across all instances, such as counters, default settings, or shared resources.\n",
        "\n",
        "2. Instance Variable\n",
        "\n",
        "An instance variable is a variable that is specific to each instance of a class. Instance variables are defined inside the __init__ method (or other instance methods) using the self keyword. Each object (instance) created from the class will have its own copy of the instance variable, and the value of the instance variable can differ between instances.\n",
        "\n",
        "Scope: Specific to each instance of the class.\n",
        "\n",
        "Modification: Changes to an instance variable only affect that particular instance.\n",
        "\n",
        "Usage: Instance variables are used to store data that is unique to each object, such as the name, age, or attributes of an object.\n",
        "\n",
        ""
      ],
      "metadata": {
        "id": "CLzlXtrZRtXU"
      }
    },
    {
      "cell_type": "markdown",
      "source": [
        " # 18. What is multiple inheritance in Python?\n",
        "\n",
        "  - Multiple inheritance in Python refers to the ability of a class to inherit from more than one parent class. This allows a class to inherit attributes and methods from multiple classes, enabling more flexibility in designing complex systems."
      ],
      "metadata": {
        "id": "S2W4gky5SOy4"
      }
    },
    {
      "cell_type": "markdown",
      "source": [
        "# 19. Explain the purpose of ‘’__str__’ and ‘__repr__’ ‘ methods in Python.\n",
        "\n",
        " - In Python, the __str__ and __repr__ methods are special methods used to define how objects of a class are represented as strings. While both are used to return a string representation of an object, they serve different purposes:\n",
        "\n",
        "1. __str__ (Informal String Representation)\n",
        "\n",
        "Purpose: The __str__ method is used to define a \"nice\" or user-friendly string representation of an object, typically for display purposes, such as when printing the object or converting it to a string explicitly using str().\n",
        "\n",
        "Use Case: It is called by the print() function or str() when an object needs to be represented as a string.\n",
        "\n",
        "2. __repr__ (Formal String Representation)\n",
        "\n",
        "Purpose: The __repr__ method is used to define a \"formal\" or unambiguous string representation of an object, which ideally can be used to recreate the object. If the __str__ method is not defined, Python will use __repr__ as a fallback when you try to print an object.\n",
        "\n",
        "Use Case: It is typically used for debugging and development. The output of __repr__ should be a valid Python expression that, if passed to eval(), could (ideally) create an object with the same state.\n",
        "\n"
      ],
      "metadata": {
        "id": "4m1KOABqShoH"
      }
    },
    {
      "cell_type": "markdown",
      "source": [
        "# 20. What is the significance of the ‘super()’ function in Python?\n",
        "\n",
        " - The super() function in Python is used to call methods from a parent class (or superclass) in a class that inherits from it. It provides a way to invoke methods from a parent class without directly referring to the class name, which makes the code more flexible, maintainable, and easier to work with in the context of inheritance.\n",
        "\n",
        "Key purposes and uses of super():\n",
        "Access Parent Class Methods:\n",
        "\n",
        "It allows you to call methods from a parent class, including constructors (__init__) and other methods.\n",
        "\n",
        "This is especially useful when you want to extend or modify the behavior of a method in the child class while still calling the parent class's method.\n",
        "\n",
        "Avoid Hardcoding Class Names:\n",
        "\n",
        "Instead of explicitly referencing the parent class (e.g., ParentClass.method()), super() automatically refers to the superclass. This makes your code more flexible and supports multiple inheritance more easily.\n",
        "\n",
        "Supports Multiple Inheritance:\n",
        "\n",
        "In the case of multiple inheritance, super() ensures that methods are called in the correct order according to the method resolution order (MRO), which Python handles using the C3 linearization algorithm."
      ],
      "metadata": {
        "id": "XB6NRM0aS2F1"
      }
    },
    {
      "cell_type": "markdown",
      "source": [
        "# 21.What is the significance of the __del__ method in Python?\n",
        "\n",
        " - The __del__ method in Python is a special method known as the destructor. It is automatically called when an object is about to be destroyed, which typically happens when the object's reference count reaches zero, meaning there are no more references to the object, and it is ready for garbage collection.\n",
        "\n",
        "Purpose of __del__:\n",
        "\n",
        "Cleanup Resources: The primary purpose of the __del__ method is to define any cleanup behavior that should occur when an object is deleted. This might include closing files, releasing network resources, or deallocating memory manually if needed.\n",
        "\n",
        "Custom Destruction Behavior: It allows you to add custom logic for cleaning up resources before the object is destroyed.\n",
        "\n"
      ],
      "metadata": {
        "id": "XepcoGJFTQCu"
      }
    },
    {
      "cell_type": "markdown",
      "source": [
        "# 22.  What is the difference between @staticmethod and @classmethod in Python?\n",
        "\n",
        " - In Python, both @staticmethod and @classmethod are decorators used to define methods that belong to a class rather than an instance of the class. However, they differ in how they access the class and its properties. Here's a breakdown of the differences:\n",
        "\n",
        "1. @staticmethod:\n",
        "\n",
        "Purpose: A staticmethod is a method that does not require access to the instance (self) or the class (cls). It is essentially a function defined inside the class, but it operates independently of the class or instance.\n",
        "\n",
        "No Access to Instance or Class: It does not take the self or cls parameter by default. Therefore, it cannot modify the state of the instance or the class.\n",
        "\n",
        "Use Case: Typically used when you need to define a function that logically belongs to the class but doesn't need access to any class or instance-specific\n",
        "data.\n",
        "\n",
        "\n",
        " 2. @classmethod:\n",
        "\n",
        "Purpose: A classmethod is a method that receives the class itself (cls) as the first argument, not the instance. This allows it to access and modify class-level data, such as class variables or methods.\n",
        "\n",
        "Access to Class (but not instance): It cannot access instance-specific data (i.e., it doesn't take self as its first argument), but it can modify class-level attributes and call other class methods.\n",
        "\n",
        "Use Case: Typically used when you need to modify or access class-level data or when you want to define factory methods that create instances of the class using class-level logic."
      ],
      "metadata": {
        "id": "7IjZCc6wTlwY"
      }
    },
    {
      "cell_type": "markdown",
      "source": [
        "# 23. How does polymorphism work in Python with inheritance?\n",
        "\n",
        " - Polymorphism in Python, particularly when combined with inheritance, refers to the ability of different classes to provide different implementations of methods that share the same name. In other words, polymorphism allows objects of different classes to be treated as objects of a common superclass, but the actual method that is called will depend on the object’s class.\n",
        "\n",
        "How Polymorphism Works with Inheritance:\n",
        "\n",
        "In Python, polymorphism primarily works through method overriding. This means that a subclass can provide its own implementation of a method that is defined in its superclass. When the method is called on an object, Python will use the method of the actual class of the object, even if it's being referred to by a reference to the superclass."
      ],
      "metadata": {
        "id": "XMDFSElzT_eq"
      }
    },
    {
      "cell_type": "markdown",
      "source": [
        "# 24. What is method chaining in Python OOP?\n",
        "\n",
        " - Method chaining in Python (or any object-oriented programming language) refers to the practice of calling multiple methods on the same object in a single line of code. This is made possible by each method returning the object itself (or a reference to it) so that the next method can be called on the same object.\n",
        "\n",
        "In Python, method chaining is typically achieved by having methods return self, which allows the subsequent method calls to be linked together in a single statement.\n",
        "\n",
        "How Method Chaining Works:\n",
        "\n",
        "Each method in the chain must return the object (self) so that the next method can be called on it.\n",
        "\n",
        "Method chaining allows for more concise and readable code, especially when multiple operations need to be performed on the same object."
      ],
      "metadata": {
        "id": "Ek7DMd-gUSGe"
      }
    },
    {
      "cell_type": "markdown",
      "source": [
        "#25. What is the purpose of the __call__ method in Python?\n",
        "\n",
        " - The __call__ method in Python is a special method that allows an instance of a class to be called as if it were a function. When an object of a class has a __call__ method defined, you can use the object itself like a callable function. This gives the object the behavior of a function, allowing for more flexible and dynamic designs.\n",
        "\n",
        "Purpose of __call__:\n",
        "\n",
        "Making Objects Callable: The main purpose of __call__ is to allow an object to be called as if it were a function. This means that when you use parentheses () with an object (like you would with a function), Python will invoke the __call__ method of that object.\n",
        "\n",
        "Custom Behavior: The __call__ method is useful when you want to implement custom behavior for objects that should act like functions, or when you need objects that can be reused in a function-like context.\n",
        "\n",
        "Functional Objects: It allows you to create objects that behave like functions or callbacks. This can be useful in many scenarios, such as when you want to encapsulate some function-like behavior in an object, or if you're implementing design patterns like the strategy pattern or command pattern."
      ],
      "metadata": {
        "id": "5-WGifNhUejV"
      }
    },
    {
      "cell_type": "markdown",
      "source": [
        "# Practical Questions"
      ],
      "metadata": {
        "id": "MPStGB2TUvbX"
      }
    },
    {
      "cell_type": "markdown",
      "source": [
        "# 1.  Create a parent class Animal with a method speak() that prints a generic message. Create a child class Dog that overrides the speak() method to print \"Bark!\"."
      ],
      "metadata": {
        "id": "V59hmFrvVC9P"
      }
    },
    {
      "cell_type": "code",
      "source": [
        "# Parent class\n",
        "class Animal:\n",
        "    def speak(self):\n",
        "        print(\"Animal makes a sound\")\n",
        "\n",
        "# Child class\n",
        "class Dog(Animal):\n",
        "    def speak(self):\n",
        "        print(\"Bark!\")\n",
        "\n",
        "# Creating instances\n",
        "animal = Animal()\n",
        "dog = Dog()\n",
        "\n",
        "# Calling speak() method\n",
        "animal.speak()  # Output: Animal makes a sound\n",
        "dog.speak()     # Output: Bark!\n"
      ],
      "metadata": {
        "colab": {
          "base_uri": "https://localhost:8080/"
        },
        "id": "JkZ8Z0heVZpq",
        "outputId": "70b36bf0-a0fa-4efa-bad9-b38c1b3bd3f4"
      },
      "execution_count": 2,
      "outputs": [
        {
          "output_type": "stream",
          "name": "stdout",
          "text": [
            "Animal makes a sound\n",
            "Bark!\n"
          ]
        }
      ]
    },
    {
      "cell_type": "markdown",
      "source": [
        "#2.  Write a program to create an abstract class Shape with a method area(). Derive classes Circle and Rectangle from it and implement the area() method in both."
      ],
      "metadata": {
        "id": "I-yND0RbVjo6"
      }
    },
    {
      "cell_type": "code",
      "source": [
        "\n",
        "from abc import ABC, abstractmethod\n",
        "import math\n",
        "\n",
        "# Abstract class\n",
        "class Shape(ABC):\n",
        "    @abstractmethod\n",
        "    def area(self):\n",
        "        pass\n",
        "\n",
        "# Derived class Circle\n",
        "class Circle(Shape):\n",
        "    def __init__(self, radius):\n",
        "        self.radius = radius\n",
        "\n",
        "    def area(self):\n",
        "        return math.pi * self.radius ** 2\n",
        "\n",
        "# Derived class Rectangle\n",
        "class Rectangle(Shape):\n",
        "    def __init__(self, width, height):\n",
        "        self.width = width\n",
        "        self.height = height\n",
        "\n",
        "    def area(self):\n",
        "        return self.width * self.height\n",
        "\n",
        "# Creating instances\n",
        "circle = Circle(5)\n",
        "rectangle = Rectangle(4, 6)\n",
        "\n",
        "# Calling the area method\n",
        "print(f\"Area of Circle: {circle.area()}\")\n",
        "print(f\"Area of Rectangle: {rectangle.area()}\")\n"
      ],
      "metadata": {
        "colab": {
          "base_uri": "https://localhost:8080/"
        },
        "id": "Jwfw6x9zVw3P",
        "outputId": "210a1230-37a9-402c-91b2-0258aa832b86"
      },
      "execution_count": 3,
      "outputs": [
        {
          "output_type": "stream",
          "name": "stdout",
          "text": [
            "Area of Circle: 78.53981633974483\n",
            "Area of Rectangle: 24\n"
          ]
        }
      ]
    },
    {
      "cell_type": "markdown",
      "source": [
        "#3.Implement a multi-level inheritance scenario where a class Vehicle has an attribute type. Derive a class Car and further derive a class ElectricCar that adds a battery attribute."
      ],
      "metadata": {
        "id": "U08M5fZ9V63D"
      }
    },
    {
      "cell_type": "code",
      "source": [
        "# Base class\n",
        "class Vehicle:\n",
        "    def __init__(self, type_of_vehicle):\n",
        "        self.type = type_of_vehicle\n",
        "\n",
        "    def display_type(self):\n",
        "        print(f\"This is a {self.type}.\")\n",
        "\n",
        "# Derived class Car\n",
        "class Car(Vehicle):\n",
        "    def __init__(self, type_of_vehicle, make, model):\n",
        "        super().__init__(type_of_vehicle)\n",
        "        self.make = make\n",
        "        self.model = model\n",
        "\n",
        "    def display_car_info(self):\n",
        "        print(f\"Car Make: {self.make}, Model: {self.model}\")\n",
        "\n",
        "# Further derived class ElectricCar\n",
        "class ElectricCar(Car):\n",
        "    def __init__(self, type_of_vehicle, make, model, battery):\n",
        "        super().__init__(type_of_vehicle, make, model)\n",
        "        self.battery = battery\n",
        "\n",
        "    def display_battery_info(self):\n",
        "        print(f\"This electric car has a {self.battery} battery.\")\n",
        "\n",
        "# Creating instances\n",
        "vehicle = Vehicle(\"Vehicle\")\n",
        "car = Car(\"Car\", \"Toyota\", \"Corolla\")\n",
        "electric_car = ElectricCar(\"Electric Car\", \"Tesla\", \"Model S\", \"100 kWh\")\n",
        "\n",
        "# Displaying information\n",
        "vehicle.display_type()\n",
        "car.display_type()\n",
        "car.display_car_info()\n",
        "electric_car.display_type()\n",
        "electric_car.display_car_info()\n",
        "electric_car.display_battery_info()\n"
      ],
      "metadata": {
        "colab": {
          "base_uri": "https://localhost:8080/"
        },
        "id": "SSNu51gUWAlh",
        "outputId": "6c18d465-67c7-4dfc-8fb2-2a799d09ae7e"
      },
      "execution_count": 4,
      "outputs": [
        {
          "output_type": "stream",
          "name": "stdout",
          "text": [
            "This is a Vehicle.\n",
            "This is a Car.\n",
            "Car Make: Toyota, Model: Corolla\n",
            "This is a Electric Car.\n",
            "Car Make: Tesla, Model: Model S\n",
            "This electric car has a 100 kWh battery.\n"
          ]
        }
      ]
    },
    {
      "cell_type": "markdown",
      "source": [
        "#4. Demonstrate polymorphism by creating a base class Bird with a method fly(). Create two derived classes Sparrow and Penguin that override the fly() method.\n"
      ],
      "metadata": {
        "id": "vbWmQqSIWLRH"
      }
    },
    {
      "cell_type": "code",
      "source": [
        "# Base class\n",
        "class Bird:\n",
        "    def fly(self):\n",
        "        print(\"This bird can fly.\")\n",
        "\n",
        "# Derived class Sparrow\n",
        "class Sparrow(Bird):\n",
        "    def fly(self):\n",
        "        print(\"Sparrow flies high in the sky.\")\n",
        "\n",
        "# Derived class Penguin\n",
        "class Penguin(Bird):\n",
        "    def fly(self):\n",
        "        print(\"Penguins can't fly, they waddle instead.\")\n",
        "\n",
        "# Creating instances\n",
        "bird = Bird()\n",
        "sparrow = Sparrow()\n",
        "penguin = Penguin()\n",
        "\n",
        "# Demonstrating polymorphism\n",
        "birds = [bird, sparrow, penguin]\n",
        "\n",
        "for b in birds:\n",
        "    b.fly()  # Each bird will call its own version of the fly method\n"
      ],
      "metadata": {
        "colab": {
          "base_uri": "https://localhost:8080/"
        },
        "id": "m6vHkPzLWYaz",
        "outputId": "5a7a5265-4389-44c5-d649-c58a4395eb9b"
      },
      "execution_count": 5,
      "outputs": [
        {
          "output_type": "stream",
          "name": "stdout",
          "text": [
            "This bird can fly.\n",
            "Sparrow flies high in the sky.\n",
            "Penguins can't fly, they waddle instead.\n"
          ]
        }
      ]
    },
    {
      "cell_type": "markdown",
      "source": [
        "#5.  Write a program to demonstrate encapsulation by creating a class BankAccount with private attributes balance and methods to deposit, withdraw, and check balance.\n",
        "\n",
        "\n",
        "Python Program to Demonstrate Encapsulation:"
      ],
      "metadata": {
        "id": "HXaJvtn0WeU5"
      }
    },
    {
      "cell_type": "code",
      "source": [
        "class BankAccount:\n",
        "    def __init__(self, initial_balance=0):\n",
        "        # Private attribute\n",
        "        self.__balance = initial_balance\n",
        "\n",
        "    # Method to deposit money\n",
        "    def deposit(self, amount):\n",
        "        if amount > 0:\n",
        "            self.__balance += amount\n",
        "            print(f\"Deposited: ${amount}\")\n",
        "        else:\n",
        "            print(\"Deposit amount must be positive.\")\n",
        "\n",
        "    # Method to withdraw money\n",
        "    def withdraw(self, amount):\n",
        "        if amount > 0 and amount <= self.__balance:\n",
        "            self.__balance -= amount\n",
        "            print(f\"Withdrew: ${amount}\")\n",
        "        else:\n",
        "            print(\"Invalid withdrawal amount or insufficient funds.\")\n",
        "\n",
        "    # Method to check balance\n",
        "    def check_balance(self):\n",
        "        print(f\"Current balance: ${self.__balance}\")\n",
        "\n",
        "# Create an instance of BankAccount with an initial balance of 1000\n",
        "account = BankAccount(1000)\n",
        "\n",
        "# Demonstrating the functionality\n",
        "account.check_balance()  # Checking initial balance\n",
        "account.deposit(500)     # Depositing money\n",
        "account.withdraw(200)    # Withdrawing money\n",
        "account.check_balance()  # Checking balance after transactions\n",
        "\n",
        "# Trying to access private attribute directly (this will raise an error)\n",
        "# print(account.__balance)  # Uncommenting this will cause an AttributeError\n"
      ],
      "metadata": {
        "colab": {
          "base_uri": "https://localhost:8080/"
        },
        "id": "igJczXlTWwDF",
        "outputId": "ce5160f0-bcac-4a84-ec2e-9a9bac505ff6"
      },
      "execution_count": 6,
      "outputs": [
        {
          "output_type": "stream",
          "name": "stdout",
          "text": [
            "Current balance: $1000\n",
            "Deposited: $500\n",
            "Withdrew: $200\n",
            "Current balance: $1300\n"
          ]
        }
      ]
    },
    {
      "cell_type": "markdown",
      "source": [
        "#6.  Demonstrate runtime polymorphism using a method play() in a base class Instrument. Derive classes Guitar and Piano that implement their own version of play().\n",
        "\n",
        " - Runtime polymorphism (also known as dynamic method dispatch) allows a method to behave differently depending on the object that invokes it. In Python, this can be achieved by having a method in a base class and overriding it in derived classes. The method invoked is determined at runtime based on the object type."
      ],
      "metadata": {
        "id": "leX_GRLBW0KS"
      }
    },
    {
      "cell_type": "code",
      "source": [
        "# Base class\n",
        "class Instrument:\n",
        "    def play(self):\n",
        "        print(\"This instrument makes a sound.\")\n",
        "\n",
        "# Derived class Guitar\n",
        "class Guitar(Instrument):\n",
        "    def play(self):\n",
        "        print(\"Strumming the guitar.\")\n",
        "\n",
        "# Derived class Piano\n",
        "class Piano(Instrument):\n",
        "    def play(self):\n",
        "        print(\"Playing the piano keys.\")\n",
        "\n",
        "# Creating instances of Instrument, Guitar, and Piano\n",
        "instrument = Instrument()\n",
        "guitar = Guitar()\n",
        "piano = Piano()\n",
        "\n",
        "# Demonstrating runtime polymorphism\n",
        "def demonstrate_play(instrument):\n",
        "    instrument.play()\n",
        "\n",
        "# Calling the function with different objects\n",
        "demonstrate_play(instrument)  # Base class play() method\n",
        "demonstrate_play(guitar)     # Guitar class play() method\n",
        "demonstrate_play(piano)      # Piano class play() method\n"
      ],
      "metadata": {
        "colab": {
          "base_uri": "https://localhost:8080/"
        },
        "id": "S29neef-W5iY",
        "outputId": "bff0cac2-6660-4b27-b860-b05b8cca4133"
      },
      "execution_count": 7,
      "outputs": [
        {
          "output_type": "stream",
          "name": "stdout",
          "text": [
            "This instrument makes a sound.\n",
            "Strumming the guitar.\n",
            "Playing the piano keys.\n"
          ]
        }
      ]
    },
    {
      "cell_type": "markdown",
      "source": [
        "#7.  Create a class MathOperations with a class method add_numbers() to add two numbers and a static method subtract_numbers() to subtract two numbers."
      ],
      "metadata": {
        "id": "otlR-OmSXLC4"
      }
    },
    {
      "cell_type": "code",
      "source": [
        "class MathOperations:\n",
        "    # Class method to add two numbers\n",
        "    @classmethod\n",
        "    def add_numbers(cls, num1, num2):\n",
        "        return num1 + num2\n",
        "\n",
        "    # Static method to subtract two numbers\n",
        "    @staticmethod\n",
        "    def subtract_numbers(num1, num2):\n",
        "        return num1 - num2\n",
        "\n",
        "# Demonstrating the class methods\n",
        "result_add = MathOperations.add_numbers(10, 5)  # Using class method\n",
        "result_subtract = MathOperations.subtract_numbers(10, 5)  # Using static method\n",
        "\n",
        "print(f\"Addition result: {result_add}\")  # Output: Addition result: 15\n",
        "print(f\"Subtraction result: {result_subtract}\")  # Output: Subtraction result: 5\n"
      ],
      "metadata": {
        "colab": {
          "base_uri": "https://localhost:8080/"
        },
        "id": "bYmvEeBnXVQ2",
        "outputId": "34761319-d139-43e8-d3f2-1d745d8d2f69"
      },
      "execution_count": 8,
      "outputs": [
        {
          "output_type": "stream",
          "name": "stdout",
          "text": [
            "Addition result: 15\n",
            "Subtraction result: 5\n"
          ]
        }
      ]
    },
    {
      "cell_type": "markdown",
      "source": [
        "#8.  Implement a class Person with a class method to count the total number of persons created.\n",
        "\n",
        " - To implement a class Person with a class method that keeps track of the total number of persons created, we can maintain a class-level attribute that increments each time a new Person object is instantiated. The class method will return the total count of Person objects created."
      ],
      "metadata": {
        "id": "XsZbHtA1XYd0"
      }
    },
    {
      "cell_type": "code",
      "source": [
        "class Person:\n",
        "    # Class-level attribute to store the count of created persons\n",
        "    total_persons = 0\n",
        "\n",
        "    def __init__(self, name):\n",
        "        # Instance attribute for the name of the person\n",
        "        self.name = name\n",
        "        # Increment the total count of persons created\n",
        "        Person.total_persons += 1\n",
        "\n",
        "    # Class method to return the total number of persons created\n",
        "    @classmethod\n",
        "    def count_persons(cls):\n",
        "        return cls.total_persons\n",
        "\n",
        "# Creating instances of Person\n",
        "person1 = Person(\"Alice\")\n",
        "person2 = Person(\"Bob\")\n",
        "person3 = Person(\"Charlie\")\n",
        "\n",
        "# Using the class method to get the count of persons created\n",
        "print(f\"Total number of persons created: {Person.count_persons()}\")  # Output: Total number of persons created: 3\n"
      ],
      "metadata": {
        "colab": {
          "base_uri": "https://localhost:8080/"
        },
        "id": "Wgi5zwUqXgUO",
        "outputId": "8a8394bd-88a7-42f5-aea3-fdc7adbb1ca4"
      },
      "execution_count": 9,
      "outputs": [
        {
          "output_type": "stream",
          "name": "stdout",
          "text": [
            "Total number of persons created: 3\n"
          ]
        }
      ]
    },
    {
      "cell_type": "markdown",
      "source": [
        "#9. Write a class Fraction with attributes numerator and denominator. Override the str method to display the fraction as \"numerator/denominator\".\n",
        "\n",
        " - To write a class Fraction that represents a fraction with attributes numerator and denominator, and to override the __str__() method to display the fraction as \"numerator/denominator\", you can do the following:"
      ],
      "metadata": {
        "id": "Xk83E1AIXkMV"
      }
    },
    {
      "cell_type": "code",
      "source": [
        "class Fraction:\n",
        "    def __init__(self, numerator, denominator):\n",
        "        # Initialize the numerator and denominator\n",
        "        self.numerator = numerator\n",
        "        self.denominator = denominator\n",
        "\n",
        "    # Override the __str__ method to display the fraction as \"numerator/denominator\"\n",
        "    def __str__(self):\n",
        "        return f\"{self.numerator}/{self.denominator}\"\n",
        "\n",
        "# Creating an instance of the Fraction class\n",
        "fraction1 = Fraction(3, 4)\n",
        "\n",
        "# Printing the fraction using the overridden __str__ method\n",
        "print(fraction1)  # Output: 3/4\n"
      ],
      "metadata": {
        "colab": {
          "base_uri": "https://localhost:8080/"
        },
        "id": "uInZKURaX0kQ",
        "outputId": "8f194ed1-002e-4091-ea20-e88ffc5b3f92"
      },
      "execution_count": 10,
      "outputs": [
        {
          "output_type": "stream",
          "name": "stdout",
          "text": [
            "3/4\n"
          ]
        }
      ]
    },
    {
      "cell_type": "markdown",
      "source": [
        "#10.  Demonstrate operator overloading by creating a class Vector and overriding the add method to add two vectors.\n",
        "\n",
        " - Operator overloading allows you to define how operators (like +, -, etc.) behave for objects of your custom classes. In Python, this is done by overriding special methods like __add__() for the + operator.\n",
        "\n",
        "Here's how you can demonstrate operator overloading by creating a Vector class and overriding the __add__() method to allow adding two vectors:\n",
        "\n"
      ],
      "metadata": {
        "id": "ZsJGit3OX4Jo"
      }
    },
    {
      "cell_type": "code",
      "source": [
        "class Vector:\n",
        "    def __init__(self, x, y):\n",
        "        self.x = x\n",
        "        self.y = y\n",
        "\n",
        "    # Overriding the + operator using __add__\n",
        "    def __add__(self, other):\n",
        "        return Vector(self.x + other.x, self.y + other.y)\n",
        "\n",
        "    # For readable string representation\n",
        "    def __str__(self):\n",
        "        return f\"Vector({self.x}, {self.y})\"\n",
        "\n",
        "# Creating two Vector instances\n",
        "v1 = Vector(2, 3)\n",
        "v2 = Vector(4, 1)\n",
        "\n",
        "# Adding two vectors using +\n",
        "result = v1 + v2\n",
        "\n",
        "# Displaying the result\n",
        "print(\"v1 + v2 =\", result)\n"
      ],
      "metadata": {
        "colab": {
          "base_uri": "https://localhost:8080/"
        },
        "id": "u_C-sNImYSYX",
        "outputId": "1248f4e3-4a03-4c14-df58-3eb2b2d7dfca"
      },
      "execution_count": 11,
      "outputs": [
        {
          "output_type": "stream",
          "name": "stdout",
          "text": [
            "v1 + v2 = Vector(6, 4)\n"
          ]
        }
      ]
    },
    {
      "cell_type": "markdown",
      "source": [
        "#11. Create a class Person with attributes name and age. Add a method greet() that prints \"Hello, my name is {name} and I am {age} years old.\""
      ],
      "metadata": {
        "id": "IIUYSRuuYYJl"
      }
    },
    {
      "cell_type": "code",
      "source": [
        "class Person:\n",
        "    def __init__(self, name, age):\n",
        "        self.name = name\n",
        "        self.age = age\n",
        "\n",
        "    def greet(self):\n",
        "        print(f\"Hello, my name is {self.name} and I am {self.age} years old.\")\n",
        "\n",
        "# Creating an instance of the Person class\n",
        "person1 = Person(\"Alice\", 30)\n",
        "\n",
        "# Calling the greet method\n",
        "person1.greet()\n"
      ],
      "metadata": {
        "colab": {
          "base_uri": "https://localhost:8080/"
        },
        "id": "us4If8zlYhSL",
        "outputId": "c181c887-0e1f-4e60-8daf-4626afba29dd"
      },
      "execution_count": 12,
      "outputs": [
        {
          "output_type": "stream",
          "name": "stdout",
          "text": [
            "Hello, my name is Alice and I am 30 years old.\n"
          ]
        }
      ]
    },
    {
      "cell_type": "markdown",
      "source": [
        "# 12.  Implement a class Student with attributes name and grades. Create a method average_grade() to compute the average of the grades.\n",
        "\n",
        ""
      ],
      "metadata": {
        "id": "9V4f_cAwYnkr"
      }
    },
    {
      "cell_type": "code",
      "source": [
        "class Student:\n",
        "    def __init__(self, name, grades):\n",
        "        self.name = name\n",
        "        self.grades = grades  # Expected to be a list of numbers\n",
        "\n",
        "    def average_grade(self):\n",
        "        if not self.grades:\n",
        "            return 0\n",
        "        return sum(self.grades) / len(self.grades)\n",
        "\n",
        "# Creating a Student instance\n",
        "student1 = Student(\"John\", [85, 90, 78, 92])\n",
        "\n",
        "# Calculating and displaying the average grade\n",
        "print(f\"{student1.name}'s average grade is: {student1.average_grade():.2f}\")\n"
      ],
      "metadata": {
        "colab": {
          "base_uri": "https://localhost:8080/"
        },
        "id": "KVfqEISBjuBU",
        "outputId": "f3454218-0719-40bb-b76b-f9163cb24263"
      },
      "execution_count": 13,
      "outputs": [
        {
          "output_type": "stream",
          "name": "stdout",
          "text": [
            "John's average grade is: 86.25\n"
          ]
        }
      ]
    },
    {
      "cell_type": "markdown",
      "source": [
        "# 13. Create a class Rectangle with methods set_dimensions() to set the dimensions and area() to calculate the area.\n"
      ],
      "metadata": {
        "id": "V9dhfYgEjwyu"
      }
    },
    {
      "cell_type": "code",
      "source": [
        "class Rectangle:\n",
        "    def __init__(self):\n",
        "        self.length = 0\n",
        "        self.width = 0\n",
        "\n",
        "    # Method to set dimensions of the rectangle\n",
        "    def set_dimensions(self, length, width):\n",
        "        self.length = length\n",
        "        self.width = width\n",
        "\n",
        "    # Method to calculate and return the area\n",
        "    def area(self):\n",
        "        return self.length * self.width\n",
        "\n",
        "# Creating a Rectangle instance\n",
        "rect = Rectangle()\n",
        "\n",
        "# Setting dimensions\n",
        "rect.set_dimensions(5, 3)\n",
        "\n",
        "# Calculating and displaying the area\n",
        "print(f\"The area of the rectangle is: {rect.area()}\")\n"
      ],
      "metadata": {
        "colab": {
          "base_uri": "https://localhost:8080/"
        },
        "id": "u5Rm5EcKj6bh",
        "outputId": "e970d280-0e42-44cc-b8f8-b3f7edcbfb69"
      },
      "execution_count": 14,
      "outputs": [
        {
          "output_type": "stream",
          "name": "stdout",
          "text": [
            "The area of the rectangle is: 15\n"
          ]
        }
      ]
    },
    {
      "cell_type": "markdown",
      "source": [
        "#14.  Create a class Employee with a method calculate_salary() that computes the salary based on hours worked and hourly rate. Create a derived class Manager that adds a bonus to the salary."
      ],
      "metadata": {
        "id": "PomQP2qGj8Fx"
      }
    },
    {
      "cell_type": "code",
      "source": [
        "# Base class\n",
        "class Employee:\n",
        "    def __init__(self, name, hours_worked, hourly_rate):\n",
        "        self.name = name\n",
        "        self.hours_worked = hours_worked\n",
        "        self.hourly_rate = hourly_rate\n",
        "\n",
        "    def calculate_salary(self):\n",
        "        return self.hours_worked * self.hourly_rate\n",
        "\n",
        "# Derived class\n",
        "class Manager(Employee):\n",
        "    def __init__(self, name, hours_worked, hourly_rate, bonus):\n",
        "        super().__init__(name, hours_worked, hourly_rate)\n",
        "        self.bonus = bonus\n",
        "\n",
        "    def calculate_salary(self):\n",
        "        base_salary = super().calculate_salary()\n",
        "        return base_salary + self.bonus\n",
        "\n",
        "# Creating an Employee instance\n",
        "emp = Employee(\"Alice\", 40, 20)\n",
        "print(f\"{emp.name}'s salary: ${emp.calculate_salary()}\")\n",
        "\n",
        "# Creating a Manager instance\n",
        "mgr = Manager(\"Bob\", 40, 30, 500)\n",
        "print(f\"{mgr.name}'s salary (with bonus): ${mgr.calculate_salary()}\")\n"
      ],
      "metadata": {
        "colab": {
          "base_uri": "https://localhost:8080/"
        },
        "id": "orVWbwp1kIO5",
        "outputId": "20f33859-5c8d-4df5-ecbe-5c2b67f783ec"
      },
      "execution_count": 15,
      "outputs": [
        {
          "output_type": "stream",
          "name": "stdout",
          "text": [
            "Alice's salary: $800\n",
            "Bob's salary (with bonus): $1700\n"
          ]
        }
      ]
    },
    {
      "cell_type": "markdown",
      "source": [
        "#15.  Create a class Product with attributes name, price, and quantity. Implement a method total_price() that calculates the total price of the product.\n",
        "\n",
        "\n"
      ],
      "metadata": {
        "id": "L3Xoto6pkNP3"
      }
    },
    {
      "cell_type": "code",
      "source": [
        "class Product:\n",
        "    def __init__(self, name, price, quantity):\n",
        "        self.name = name\n",
        "        self.price = price\n",
        "        self.quantity = quantity\n",
        "\n",
        "    # Method to calculate total price\n",
        "    def total_price(self):\n",
        "        return self.price * self.quantity\n",
        "\n",
        "# Creating a Product instance\n",
        "product1 = Product(\"Laptop\", 1000, 3)\n",
        "\n",
        "# Calculating and displaying total price\n",
        "print(f\"Total price for {product1.quantity} {product1.name}(s): ${product1.total_price()}\")\n"
      ],
      "metadata": {
        "colab": {
          "base_uri": "https://localhost:8080/"
        },
        "id": "JbLmed11kZ3W",
        "outputId": "d3d5fa4e-28b7-4f4a-a3ab-f857abadf828"
      },
      "execution_count": 16,
      "outputs": [
        {
          "output_type": "stream",
          "name": "stdout",
          "text": [
            "Total price for 3 Laptop(s): $3000\n"
          ]
        }
      ]
    },
    {
      "cell_type": "markdown",
      "source": [
        "#16.  Create a class Animal with an abstract method sound(). Create two derived classes Cow and Sheep that implement the sound() method."
      ],
      "metadata": {
        "id": "aLw5ZCbVkekL"
      }
    },
    {
      "cell_type": "code",
      "source": [
        "from abc import ABC, abstractmethod\n",
        "\n",
        "# Abstract base class\n",
        "class Animal(ABC):\n",
        "    @abstractmethod\n",
        "    def sound(self):\n",
        "        pass\n",
        "\n",
        "# Derived class Cow\n",
        "class Cow(Animal):\n",
        "    def sound(self):\n",
        "        return \"Moo\"\n",
        "\n",
        "# Derived class Sheep\n",
        "class Sheep(Animal):\n",
        "    def sound(self):\n",
        "        return \"Baa\"\n",
        "\n",
        "# Creating instances\n",
        "cow = Cow()\n",
        "sheep = Sheep()\n",
        "\n",
        "# Calling the sound method\n",
        "print(f\"Cow says: {cow.sound()}\")\n",
        "print(f\"Sheep says: {sheep.sound()}\")\n"
      ],
      "metadata": {
        "colab": {
          "base_uri": "https://localhost:8080/"
        },
        "id": "td26hxTbkkNL",
        "outputId": "0e86d00a-ef5c-4469-862e-a3f8ddd710b4"
      },
      "execution_count": 17,
      "outputs": [
        {
          "output_type": "stream",
          "name": "stdout",
          "text": [
            "Cow says: Moo\n",
            "Sheep says: Baa\n"
          ]
        }
      ]
    },
    {
      "cell_type": "markdown",
      "source": [
        "#17. Create a class Book with attributes title, author, and year_published. Add a method get_book_info() that returns a formatted string with the book's details."
      ],
      "metadata": {
        "id": "XNB5pJ5UkrMy"
      }
    },
    {
      "cell_type": "code",
      "source": [
        "class Book:\n",
        "    def __init__(self, title, author, year_published):\n",
        "        self.title = title\n",
        "        self.author = author\n",
        "        self.year_published = year_published\n",
        "\n",
        "    # Method to return book information\n",
        "    def get_book_info(self):\n",
        "        return f\"'{self.title}' by {self.author}, published in {self.year_published}\"\n",
        "\n",
        "# Creating an instance of the Book class\n",
        "book1 = Book(\"To Kill a Mockingbird\", \"Harper Lee\", 1960)\n",
        "\n",
        "# Displaying the book information\n",
        "print(book1.get_book_info())\n"
      ],
      "metadata": {
        "colab": {
          "base_uri": "https://localhost:8080/"
        },
        "id": "xg2adwhPkz4d",
        "outputId": "45e1038e-a613-4393-977e-8498a9a213e2"
      },
      "execution_count": 18,
      "outputs": [
        {
          "output_type": "stream",
          "name": "stdout",
          "text": [
            "'To Kill a Mockingbird' by Harper Lee, published in 1960\n"
          ]
        }
      ]
    },
    {
      "cell_type": "markdown",
      "source": [
        "#18.  Create a class House with attributes address and price. Create a derived class Mansion that adds an attribute number_of_rooms."
      ],
      "metadata": {
        "id": "2R6_f3Gvk3cb"
      }
    },
    {
      "cell_type": "code",
      "source": [
        "# Base class\n",
        "class House:\n",
        "    def __init__(self, address, price):\n",
        "        self.address = address\n",
        "        self.price = price\n",
        "\n",
        "    def get_info(self):\n",
        "        return f\"Address: {self.address}, Price: ${self.price}\"\n",
        "\n",
        "# Derived class\n",
        "class Mansion(House):\n",
        "    def __init__(self, address, price, number_of_rooms):\n",
        "        super().__init__(address, price)\n",
        "        self.number_of_rooms = number_of_rooms\n",
        "\n",
        "    def get_info(self):\n",
        "        return f\"{super().get_info()}, Rooms: {self.number_of_rooms}\"\n",
        "\n",
        "# Creating an instance of Mansion\n",
        "mansion1 = Mansion(\"123 Elite Drive\", 2500000, 12)\n",
        "# Base class\n",
        "class House:\n",
        "    def __init__(self, address, price):\n",
        "        self.address = address\n",
        "        self.price = price\n",
        "\n",
        "    def get_info(self):\n",
        "        return f\"Address: {self.address}, Price: ${self.price}\"\n",
        "\n",
        "# Derived class\n",
        "class Mansion(House):\n",
        "    def __init__(self, address, price, number_of_rooms):\n",
        "        super().__init__(address, price)\n",
        "        self.number_of_rooms = number_of_rooms\n",
        "\n",
        "    def get_info(self):\n",
        "        return f\"{super().get_info()}, Rooms: {self.number_of_rooms}\"\n",
        "\n",
        "# Creating an instance of Mansion\n",
        "mansion1 = Mansion(\"123 Elite Drive\", 2500000, 12)\n",
        "\n",
        "# Displaying mansion information\n",
        "print(mansion1)"
      ],
      "metadata": {
        "colab": {
          "base_uri": "https://localhost:8080/"
        },
        "id": "x-prPKPjk8Va",
        "outputId": "38e0bce5-a900-4de3-e78f-980fa01678bc"
      },
      "execution_count": 20,
      "outputs": [
        {
          "output_type": "stream",
          "name": "stdout",
          "text": [
            "<__main__.Mansion object at 0x7bcc6a19a290>\n"
          ]
        }
      ]
    }
  ]
}